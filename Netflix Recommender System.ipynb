{
 "cells": [
  {
   "cell_type": "markdown",
   "metadata": {},
   "source": [
    "## Netflix Recommender System"
   ]
  },
  {
   "cell_type": "markdown",
   "metadata": {},
   "source": [
    "**1. Problem Definition**"
   ]
  },
  {
   "cell_type": "markdown",
   "metadata": {},
   "source": [
    "Netflix is a web streaming service that allows audience to select from a wide range of TV series, movies, documentaries, etc. One of the most important aspects of online services or ecommerce websites is to be able to provide customized content recommendations to the audience, based on a user's likes and likes of other similar users. This business problem can be addressed by creating a recommender system using Movie rating data that contains information about the ratings given to different movies or TV shows by each Customer ID. A system such as this can help users conviniently find items of their interest and also help the web service to identify most relevant movies for each Customer ID. This can help online platforms to offer discounts and offers to the right users. A recommender system can help Netflix increase business revenue through increased consumption. "
   ]
  },
  {
   "cell_type": "code",
   "execution_count": 1,
   "metadata": {},
   "outputs": [],
   "source": [
    "#Import Libraries\n",
    "import numpy as np\n",
    "import pandas as pd\n",
    "import matplotlib.pyplot as plt\n",
    "import seaborn as sns\n",
    "import os\n",
    "import seaborn as sns\n",
    "import scipy.sparse as sp\n",
    "from scipy.sparse.linalg import svds\n",
    "from rich.jupyter import print\n",
    "sns.set_style('white')\n",
    "get_ipython().run_line_magic('matplotlib', 'inline')"
   ]
  },
  {
   "cell_type": "markdown",
   "metadata": {},
   "source": [
    "**2. Load Data**"
   ]
  },
  {
   "cell_type": "markdown",
   "metadata": {},
   "source": [
    "We load the Netflix movie rating data stored in four separate text files using Pandas and combine them in a single data frame"
   ]
  },
  {
   "cell_type": "code",
   "execution_count": 2,
   "metadata": {},
   "outputs": [],
   "source": [
    "#Load data into Pandas Dataframe\n",
    "data1 = pd.read_csv(\"C:\\\\Users\\\\pragy\\\\Desktop\\\\Netflix Recommender System\\\\combined_data_1.txt\", header=None, names = ['CustomerID', 'Rating'], usecols=[0,1])\n",
    "data2 = pd.read_csv(\"C:\\\\Users\\\\pragy\\\\Desktop\\\\Netflix Recommender System\\\\combined_data_2.txt\", header=None, names = ['CustomerID', 'Rating'], usecols=[0,1])\n",
    "data3 = pd.read_csv(\"C:\\\\Users\\\\pragy\\\\Desktop\\\\Netflix Recommender System\\\\combined_data_3.txt\", header=None, names = ['CustomerID', 'Rating'], usecols=[0,1])\n",
    "data4 = pd.read_csv(\"C:\\\\Users\\\\pragy\\\\Desktop\\\\Netflix Recommender System\\\\combined_data_4.txt\", header=None, names = ['CustomerID', 'Rating'], usecols=[0,1])\n",
    "\n",
    "#Change 'Rating' type to float\n",
    "data1['Rating'] = data1['Rating'].astype(float)\n",
    "data2['Rating'] = data2['Rating'].astype(float)\n",
    "data3['Rating'] = data3['Rating'].astype(float)\n",
    "data4['Rating'] = data4['Rating'].astype(float)"
   ]
  },
  {
   "cell_type": "code",
   "execution_count": 3,
   "metadata": {},
   "outputs": [
    {
     "data": {
      "text/html": [
       "<pre style=\"white-space:pre;overflow-x:auto;line-height:normal;font-family:Menlo,'DejaVu Sans Mono',consolas,'Courier New',monospace\"><span style=\"color: #800080; font-weight: bold\">Shape of Combined data </span><span style=\"color: #800080; font-weight: bold\">1</span><span style=\"color: #800080; font-weight: bold\">:</span>\n",
       "<span style=\"font-weight: bold\">(</span><span style=\"color: #000080; font-weight: bold\">24058263</span>, <span style=\"color: #000080; font-weight: bold\">2</span><span style=\"font-weight: bold\">)</span>\n",
       "</pre>\n"
      ],
      "text/plain": [
       "<rich.jupyter.JupyterRenderable at 0x250101eacf8>"
      ]
     },
     "metadata": {},
     "output_type": "display_data"
    },
    {
     "data": {
      "text/html": [
       "<pre style=\"white-space:pre;overflow-x:auto;line-height:normal;font-family:Menlo,'DejaVu Sans Mono',consolas,'Courier New',monospace\"><span style=\"color: #800080; font-weight: bold\">Shape of Combined data </span><span style=\"color: #800080; font-weight: bold\">2</span><span style=\"color: #800080; font-weight: bold\">:</span>\n",
       "<span style=\"font-weight: bold\">(</span><span style=\"color: #000080; font-weight: bold\">26982302</span>, <span style=\"color: #000080; font-weight: bold\">2</span><span style=\"font-weight: bold\">)</span>\n",
       "</pre>\n"
      ],
      "text/plain": [
       "<rich.jupyter.JupyterRenderable at 0x25149a0cd30>"
      ]
     },
     "metadata": {},
     "output_type": "display_data"
    },
    {
     "data": {
      "text/html": [
       "<pre style=\"white-space:pre;overflow-x:auto;line-height:normal;font-family:Menlo,'DejaVu Sans Mono',consolas,'Courier New',monospace\"><span style=\"color: #800080; font-weight: bold\">Shape of Combined data </span><span style=\"color: #800080; font-weight: bold\">3</span><span style=\"color: #800080; font-weight: bold\">:</span>\n",
       "<span style=\"font-weight: bold\">(</span><span style=\"color: #000080; font-weight: bold\">22605786</span>, <span style=\"color: #000080; font-weight: bold\">2</span><span style=\"font-weight: bold\">)</span>\n",
       "</pre>\n"
      ],
      "text/plain": [
       "<rich.jupyter.JupyterRenderable at 0x250101eac50>"
      ]
     },
     "metadata": {},
     "output_type": "display_data"
    },
    {
     "data": {
      "text/html": [
       "<pre style=\"white-space:pre;overflow-x:auto;line-height:normal;font-family:Menlo,'DejaVu Sans Mono',consolas,'Courier New',monospace\"><span style=\"color: #800080; font-weight: bold\">Shape of Combined data </span><span style=\"color: #800080; font-weight: bold\">4</span><span style=\"color: #800080; font-weight: bold\">:</span>\n",
       "<span style=\"font-weight: bold\">(</span><span style=\"color: #000080; font-weight: bold\">26851926</span>, <span style=\"color: #000080; font-weight: bold\">2</span><span style=\"font-weight: bold\">)</span>\n",
       "</pre>\n"
      ],
      "text/plain": [
       "<rich.jupyter.JupyterRenderable at 0x25149a0cd68>"
      ]
     },
     "metadata": {},
     "output_type": "display_data"
    }
   ],
   "source": [
    "#Check the shape of the data frames\n",
    "print('[bold magenta]Shape of Combined data 1:',data1.shape)\n",
    "print('[bold magenta]Shape of Combined data 2:',data2.shape)\n",
    "print('[bold magenta]Shape of Combined data 3:',data3.shape)\n",
    "print('[bold magenta]Shape of Combined data 4:',data4.shape)"
   ]
  },
  {
   "cell_type": "code",
   "execution_count": 4,
   "metadata": {},
   "outputs": [],
   "source": [
    "#Combining all data frames \n",
    "MovieRating_data = data1\n",
    "MovieRating_data = data1.append(data2)\n",
    "MovieRating_data = MovieRating_data.append(data3)\n",
    "MovieRating_data = MovieRating_data.append(data4)\n",
    "\n",
    "#set index\n",
    "MovieRating_data.index = np.arange(0,len(MovieRating_data))"
   ]
  },
  {
   "cell_type": "code",
   "execution_count": 13,
   "metadata": {},
   "outputs": [
    {
     "data": {
      "text/html": [
       "<pre style=\"white-space:pre;overflow-x:auto;line-height:normal;font-family:Menlo,'DejaVu Sans Mono',consolas,'Courier New',monospace\"><span style=\"color: #800080; font-weight: bold\">Shape of the Movie Rating data is:</span>\n",
       "<span style=\"font-weight: bold\">(</span><span style=\"color: #000080; font-weight: bold\">100480507</span>, <span style=\"color: #000080; font-weight: bold\">3</span><span style=\"font-weight: bold\">)</span>\n",
       "</pre>\n"
      ],
      "text/plain": [
       "<rich.jupyter.JupyterRenderable at 0x250108669b0>"
      ]
     },
     "metadata": {},
     "output_type": "display_data"
    }
   ],
   "source": [
    "print('[bold magenta]Shape of the Movie Rating data is:',MovieRating_data.shape)"
   ]
  },
  {
   "cell_type": "code",
   "execution_count": 5,
   "metadata": {},
   "outputs": [
    {
     "data": {
      "image/png": "[encoded data removed]",
      "text/plain": [
       "<Figure size 864x576 with 1 Axes>"
      ]
     },
     "metadata": {
      "needs_background": "light"
     },
     "output_type": "display_data"
    }
   ],
   "source": [
    "#Visualize Spread of Movie Ratings \n",
    "p = MovieRating_data.groupby('Rating')['Rating'].agg(['count'])\n",
    "\n",
    "# get movie count\n",
    "movie_count = MovieRating_data.isnull().sum()[1]\n",
    "\n",
    "# get customer count\n",
    "cust_count = MovieRating_data['CustomerID'].nunique() - movie_count\n",
    "\n",
    "# get rating count\n",
    "rating_count = MovieRating_data['CustomerID'].count() - movie_count\n",
    "    \n",
    "ax = p.plot(kind = 'barh', legend = False, figsize = (12,8))\n",
    "plt.title('{:,} Movies, {:,} Customers, {:,} Ratings'.format(movie_count, cust_count, rating_count), fontsize=20)\n",
    "plt.axis('off')\n",
    "\n",
    "for i in range(1,6):\n",
    "    ax.text(p.iloc[i-1][0]/4, i-1, 'Rating {}: {:.0f}%'.format(i,p.iloc[i-1][0]*100 / p.sum()[0]), color = 'white', weight = 'bold')"
   ]
  },
  {
   "cell_type": "markdown",
   "metadata": {},
   "source": [
    "The above graph suggests that users who like a movie are more likely to rate them than users who don't like them. About 86% of the customers have given a rating of 3 or higher to movies in the Netflix data base. "
   ]
  },
  {
   "cell_type": "code",
   "execution_count": 10,
   "metadata": {},
   "outputs": [
    {
     "data": {
      "text/html": [
       "<pre style=\"white-space:pre;overflow-x:auto;line-height:normal;font-family:Menlo,'DejaVu Sans Mono',consolas,'Courier New',monospace\">              Rating\n",
       "count  <span style=\"color: #000080; font-weight: bold\">497959.000000</span>\n",
       "mean      <span style=\"color: #000080; font-weight: bold\">201.784699</span>\n",
       "std       <span style=\"color: #000080; font-weight: bold\">299.422373</span>\n",
       "min         <span style=\"color: #000080; font-weight: bold\">0.000000</span>\n",
       "<span style=\"color: #000080; font-weight: bold\">25</span>%        <span style=\"color: #000080; font-weight: bold\">35.000000</span>\n",
       "<span style=\"color: #000080; font-weight: bold\">50</span>%        <span style=\"color: #000080; font-weight: bold\">90.000000</span>\n",
       "<span style=\"color: #000080; font-weight: bold\">75</span>%       <span style=\"color: #000080; font-weight: bold\">249.000000</span>\n",
       "max     <span style=\"color: #000080; font-weight: bold\">17653.000000</span>\n",
       "</pre>\n"
      ],
      "text/plain": [
       "<rich.jupyter.JupyterRenderable at 0x2501aef07b8>"
      ]
     },
     "metadata": {},
     "output_type": "display_data"
    }
   ],
   "source": [
    "#Descriptive Statistics\n",
    "Number_of_ratings = pd.DataFrame(MovieRating_data.groupby('CustomerID')['Rating'].count())\n",
    "print(Number_of_ratings.describe())"
   ]
  },
  {
   "cell_type": "markdown",
   "metadata": {},
   "source": [
    "The descriptive statistics of the **number of ratings** by **Customer ID** show that it has a right skewed distribution as the mean is greater than the median. This implies that the Netflix data contains majority of the information where number of ratings per customer ID is relatively low. On the other hand, the maximum number of ratings given by a user is 17653.   "
   ]
  },
  {
   "cell_type": "markdown",
   "metadata": {},
   "source": [
    "**3. Data Cleaning**"
   ]
  },
  {
   "cell_type": "code",
   "execution_count": 7,
   "metadata": {},
   "outputs": [
    {
     "data": {
      "text/html": [
       "<pre style=\"white-space:pre;overflow-x:auto;line-height:normal;font-family:Menlo,'DejaVu Sans Mono',consolas,'Courier New',monospace\"><span style=\"color: #800080; font-weight: bold\">Movie numpy: [</span><span style=\"color: #800080; font-weight: bold\">1.</span><span style=\"color: #800080; font-weight: bold\">000e+</span><span style=\"color: #800080; font-weight: bold\">00</span><span style=\"color: #800080; font-weight: bold\"> </span><span style=\"color: #800080; font-weight: bold\">1.</span><span style=\"color: #800080; font-weight: bold\">000e+</span><span style=\"color: #800080; font-weight: bold\">00</span><span style=\"color: #800080; font-weight: bold\"> </span><span style=\"color: #800080; font-weight: bold\">1.</span><span style=\"color: #800080; font-weight: bold\">000e+</span><span style=\"color: #800080; font-weight: bold\">00</span><span style=\"color: #800080; font-weight: bold\"> ... </span><span style=\"color: #800080; font-weight: bold\">1.</span><span style=\"color: #800080; font-weight: bold\">777e+</span><span style=\"color: #800080; font-weight: bold\">04</span><span style=\"color: #800080; font-weight: bold\"> </span><span style=\"color: #800080; font-weight: bold\">1.</span><span style=\"color: #800080; font-weight: bold\">777e+</span><span style=\"color: #800080; font-weight: bold\">04</span><span style=\"color: #800080; font-weight: bold\"> </span><span style=\"color: #800080; font-weight: bold\">1.</span><span style=\"color: #800080; font-weight: bold\">777e+</span><span style=\"color: #800080; font-weight: bold\">04</span><span style=\"color: #800080; font-weight: bold\">]</span>\n",
       "</pre>\n"
      ],
      "text/plain": [
       "<rich.jupyter.JupyterRenderable at 0x25010845198>"
      ]
     },
     "metadata": {},
     "output_type": "display_data"
    },
    {
     "data": {
      "text/html": [
       "<pre style=\"white-space:pre;overflow-x:auto;line-height:normal;font-family:Menlo,'DejaVu Sans Mono',consolas,'Courier New',monospace\"><span style=\"color: #800080; font-weight: bold\">Length: </span><span style=\"color: #800080; font-weight: bold\">100480507</span>\n",
       "</pre>\n"
      ],
      "text/plain": [
       "<rich.jupyter.JupyterRenderable at 0x25012ef99e8>"
      ]
     },
     "metadata": {},
     "output_type": "display_data"
    }
   ],
   "source": [
    "#Reset Index for nan values in Movie rating Data\n",
    "df_nan = pd.DataFrame(pd.isnull(MovieRating_data.Rating))\n",
    "df_nan = df_nan[df_nan['Rating'] == True]\n",
    "df_nan = df_nan.reset_index()\n",
    "\n",
    "#Add Movie ID by creating Numpy array\n",
    "movie_np = []\n",
    "movie_id = 1\n",
    "\n",
    "for i,j in zip(df_nan['index'][1:],df_nan['index'][:-1]):\n",
    "    # numpy approach\n",
    "    temp = np.full((1,i-j-1), movie_id)\n",
    "    movie_np = np.append(movie_np, temp)\n",
    "    movie_id += 1\n",
    "# Account for last record and corresponding length\n",
    "# numpy approach\n",
    "last_record = np.full((1,len(MovieRating_data) - df_nan.iloc[-1, 0] - 1),movie_id)\n",
    "movie_np = np.append(movie_np, last_record)\n",
    "\n",
    "print('[bold magenta]Movie numpy: {}'.format(movie_np))\n",
    "print('[bold magenta]Length: {}'.format(len(movie_np)))"
   ]
  },
  {
   "cell_type": "code",
   "execution_count": 11,
   "metadata": {},
   "outputs": [
    {
     "name": "stderr",
     "output_type": "stream",
     "text": [
      "C:\\Users\\pragy\\Anaconda3\\lib\\site-packages\\ipykernel_launcher.py:5: SettingWithCopyWarning: \n",
      "A value is trying to be set on a copy of a slice from a DataFrame.\n",
      "Try using .loc[row_indexer,col_indexer] = value instead\n",
      "\n",
      "See the caveats in the documentation: http://pandas.pydata.org/pandas-docs/stable/indexing.html#indexing-view-versus-copy\n",
      "  \"\"\"\n",
      "C:\\Users\\pragy\\Anaconda3\\lib\\site-packages\\ipykernel_launcher.py:6: SettingWithCopyWarning: \n",
      "A value is trying to be set on a copy of a slice from a DataFrame.\n",
      "Try using .loc[row_indexer,col_indexer] = value instead\n",
      "\n",
      "See the caveats in the documentation: http://pandas.pydata.org/pandas-docs/stable/indexing.html#indexing-view-versus-copy\n",
      "  \n"
     ]
    },
    {
     "data": {
      "text/html": [
       "<pre style=\"white-space:pre;overflow-x:auto;line-height:normal;font-family:Menlo,'DejaVu Sans Mono',consolas,'Courier New',monospace\"><span style=\"color: #800080; font-weight: bold\">-Netflix Movie Ratings-</span>\n",
       "</pre>\n"
      ],
      "text/plain": [
       "<rich.jupyter.JupyterRenderable at 0x25010776eb8>"
      ]
     },
     "metadata": {},
     "output_type": "display_data"
    },
    {
     "data": {
      "text/html": [
       "<pre style=\"white-space:pre;overflow-x:auto;line-height:normal;font-family:Menlo,'DejaVu Sans Mono',consolas,'Courier New',monospace\">           CustomerID  Rating  Movie_Id\n",
       "<span style=\"color: #000080; font-weight: bold\">1</span>             <span style=\"color: #000080; font-weight: bold\">1488844</span>     <span style=\"color: #000080; font-weight: bold\">3.0</span>         <span style=\"color: #000080; font-weight: bold\">1</span>\n",
       "<span style=\"color: #000080; font-weight: bold\">5000996</span>        <span style=\"color: #000080; font-weight: bold\">501954</span>     <span style=\"color: #000080; font-weight: bold\">2.0</span>       <span style=\"color: #000080; font-weight: bold\">996</span>\n",
       "<span style=\"color: #000080; font-weight: bold\">10001962</span>       <span style=\"color: #000080; font-weight: bold\">404654</span>     <span style=\"color: #000080; font-weight: bold\">5.0</span>      <span style=\"color: #000080; font-weight: bold\">1962</span>\n",
       "<span style=\"color: #000080; font-weight: bold\">15002876</span>       <span style=\"color: #000080; font-weight: bold\">886608</span>     <span style=\"color: #000080; font-weight: bold\">2.0</span>      <span style=\"color: #000080; font-weight: bold\">2876</span>\n",
       "<span style=\"color: #000080; font-weight: bold\">20003825</span>      <span style=\"color: #000080; font-weight: bold\">1193835</span>     <span style=\"color: #000080; font-weight: bold\">2.0</span>      <span style=\"color: #000080; font-weight: bold\">3825</span>\n",
       "<span style=\"color: #000080; font-weight: bold\">25004661</span>      <span style=\"color: #000080; font-weight: bold\">1899206</span>     <span style=\"color: #000080; font-weight: bold\">3.0</span>      <span style=\"color: #000080; font-weight: bold\">4661</span>\n",
       "<span style=\"color: #000080; font-weight: bold\">30005496</span>       <span style=\"color: #000080; font-weight: bold\">154804</span>     <span style=\"color: #000080; font-weight: bold\">4.0</span>      <span style=\"color: #000080; font-weight: bold\">5496</span>\n",
       "<span style=\"color: #000080; font-weight: bold\">35006274</span>      <span style=\"color: #000080; font-weight: bold\">2078749</span>     <span style=\"color: #000080; font-weight: bold\">5.0</span>      <span style=\"color: #000080; font-weight: bold\">6274</span>\n",
       "<span style=\"color: #000080; font-weight: bold\">40007057</span>       <span style=\"color: #000080; font-weight: bold\">450763</span>     <span style=\"color: #000080; font-weight: bold\">5.0</span>      <span style=\"color: #000080; font-weight: bold\">7057</span>\n",
       "<span style=\"color: #000080; font-weight: bold\">45007991</span>       <span style=\"color: #000080; font-weight: bold\">102092</span>     <span style=\"color: #000080; font-weight: bold\">3.0</span>      <span style=\"color: #000080; font-weight: bold\">7991</span>\n",
       "<span style=\"color: #000080; font-weight: bold\">50009023</span>       <span style=\"color: #000080; font-weight: bold\">220298</span>     <span style=\"color: #000080; font-weight: bold\">5.0</span>      <span style=\"color: #000080; font-weight: bold\">9023</span>\n",
       "<span style=\"color: #000080; font-weight: bold\">55010042</span>       <span style=\"color: #000080; font-weight: bold\">550530</span>     <span style=\"color: #000080; font-weight: bold\">5.0</span>     <span style=\"color: #000080; font-weight: bold\">10042</span>\n",
       "<span style=\"color: #000080; font-weight: bold\">60011038</span>       <span style=\"color: #000080; font-weight: bold\">222570</span>     <span style=\"color: #000080; font-weight: bold\">3.0</span>     <span style=\"color: #000080; font-weight: bold\">11038</span>\n",
       "<span style=\"color: #000080; font-weight: bold\">65011875</span>      <span style=\"color: #000080; font-weight: bold\">1273080</span>     <span style=\"color: #000080; font-weight: bold\">5.0</span>     <span style=\"color: #000080; font-weight: bold\">11875</span>\n",
       "<span style=\"color: #000080; font-weight: bold\">70012676</span>      <span style=\"color: #000080; font-weight: bold\">2026970</span>     <span style=\"color: #000080; font-weight: bold\">5.0</span>     <span style=\"color: #000080; font-weight: bold\">12676</span>\n",
       "<span style=\"color: #000080; font-weight: bold\">75013582</span>       <span style=\"color: #000080; font-weight: bold\">506044</span>     <span style=\"color: #000080; font-weight: bold\">4.0</span>     <span style=\"color: #000080; font-weight: bold\">13582</span>\n",
       "<span style=\"color: #000080; font-weight: bold\">80014453</span>       <span style=\"color: #000080; font-weight: bold\">353605</span>     <span style=\"color: #000080; font-weight: bold\">2.0</span>     <span style=\"color: #000080; font-weight: bold\">14453</span>\n",
       "<span style=\"color: #000080; font-weight: bold\">85015116</span>       <span style=\"color: #000080; font-weight: bold\">664606</span>     <span style=\"color: #000080; font-weight: bold\">3.0</span>     <span style=\"color: #000080; font-weight: bold\">15116</span>\n",
       "<span style=\"color: #000080; font-weight: bold\">90016008</span>      <span style=\"color: #000080; font-weight: bold\">2213715</span>     <span style=\"color: #000080; font-weight: bold\">3.0</span>     <span style=\"color: #000080; font-weight: bold\">16008</span>\n",
       "<span style=\"color: #000080; font-weight: bold\">95016879</span>      <span style=\"color: #000080; font-weight: bold\">1589401</span>     <span style=\"color: #000080; font-weight: bold\">5.0</span>     <span style=\"color: #000080; font-weight: bold\">16879</span>\n",
       "<span style=\"color: #000080; font-weight: bold\">100017627</span>     <span style=\"color: #000080; font-weight: bold\">2314006</span>     <span style=\"color: #000080; font-weight: bold\">4.0</span>     <span style=\"color: #000080; font-weight: bold\">17627</span>\n",
       "</pre>\n"
      ],
      "text/plain": [
       "<rich.jupyter.JupyterRenderable at 0x25012b41080>"
      ]
     },
     "metadata": {},
     "output_type": "display_data"
    }
   ],
   "source": [
    "#Taking non-null values\n",
    "MovieRating_data = MovieRating_data[pd.notnull(MovieRating_data['Rating'])]\n",
    "\n",
    "#Converting Movie ID and Customer ID to 'int'\n",
    "MovieRating_data['Movie_Id'] = movie_np.astype(int)\n",
    "MovieRating_data['CustomerID'] = MovieRating_data['CustomerID'].astype(int)\n",
    "print('[bold magenta]-Netflix Movie Ratings-[/]')\n",
    "print(MovieRating_data.iloc[::5000000, :])"
   ]
  },
  {
   "cell_type": "markdown",
   "metadata": {},
   "source": [
    "We will now filter the data based on the number of ratings per Customer ID as the data contains **100480507** records. We have selected 2000 as the threshold value above which we will consider the number of ratings per user by trial and error method."
   ]
  },
  {
   "cell_type": "code",
   "execution_count": 14,
   "metadata": {},
   "outputs": [],
   "source": [
    "#Filtering data for customers who are relatively inactive in rating movies to reduce the data size for faster computation\n",
    "MovieRating_data = MovieRating_data.groupby('CustomerID').filter(lambda x:x['Rating'].count() >= 2000).reset_index(drop = True)"
   ]
  },
  {
   "cell_type": "code",
   "execution_count": 19,
   "metadata": {},
   "outputs": [
    {
     "data": {
      "text/html": [
       "<pre style=\"white-space:pre;overflow-x:auto;line-height:normal;font-family:Menlo,'DejaVu Sans Mono',consolas,'Courier New',monospace\"><span style=\"color: #800080; font-weight: bold\">Shape of the new Movie Rating data is:</span>\n",
       "<span style=\"font-weight: bold\">(</span><span style=\"color: #000080; font-weight: bold\">3311344</span>, <span style=\"color: #000080; font-weight: bold\">3</span><span style=\"font-weight: bold\">)</span>\n",
       "</pre>\n"
      ],
      "text/plain": [
       "<rich.jupyter.JupyterRenderable at 0x25022d73a90>"
      ]
     },
     "metadata": {},
     "output_type": "display_data"
    }
   ],
   "source": [
    "print('[bold magenta]Shape of the new Movie Rating data is:',MovieRating_data.shape)"
   ]
  },
  {
   "cell_type": "code",
   "execution_count": 20,
   "metadata": {},
   "outputs": [],
   "source": [
    "#Created a function to change the Movie Id and Customer ID to an iterative value from 0 which further helps in creating a matrix\n",
    "def manipul(df,col):\n",
    "    df = df.sort_values(col).reset_index(drop = True)\n",
    "    c = df.columns.get_loc(col)\n",
    "    x = 1\n",
    "    p = 1\n",
    "    for i in df.itertuples():\n",
    "        if x == 1:\n",
    "            if i[c+1] == p:\n",
    "                x = x + 1\n",
    "                val = i[c+1]\n",
    "                continue\n",
    "            else:\n",
    "                val = i[c+1]\n",
    "                df.at[x - 1, col] = p\n",
    "                #i[c+1] = p\n",
    "                x = x + 1       \n",
    "\n",
    "        else:\n",
    "            if val == i[c+1]:\n",
    "                df.at[x - 1, col] = p\n",
    "            else:\n",
    "                val = i[c+1]\n",
    "                df.at[x - 1, col] = p + 1\n",
    "                p = p + 1\n",
    "            x = x + 1\n",
    "    return df            "
   ]
  },
  {
   "cell_type": "code",
   "execution_count": 21,
   "metadata": {},
   "outputs": [],
   "source": [
    "#Applying manipul function to Customer ID and Movie Id\n",
    "MovieRating_data = manipul(MovieRating_data, \"CustomerID\")\n",
    "MovieRating_data = manipul(MovieRating_data, \"Movie_Id\")\n",
    "\n",
    "MovieRating_data = MovieRating_data[['CustomerID','Movie_Id','Rating']]"
   ]
  },
  {
   "cell_type": "code",
   "execution_count": 22,
   "metadata": {},
   "outputs": [],
   "source": [
    "#Load Movie Titles csv file\n",
    "movie_titles = pd.read_csv(\"C:\\\\Users\\\\pragy\\\\Desktop\\\\Netflix Recommender System\\\\movie_titles.csv\", encoding = \"ISO-8859-1\", header = None, names = ['Movie_Id', 'Year', 'Name'])\n",
    "movie_titles.set_index('Movie_Id', inplace = True)"
   ]
  },
  {
   "cell_type": "code",
   "execution_count": 23,
   "metadata": {
    "scrolled": true
   },
   "outputs": [
    {
     "data": {
      "text/html": [
       "<div>\n",
       "<style scoped>\n",
       "    .dataframe tbody tr th:only-of-type {\n",
       "        vertical-align: middle;\n",
       "    }\n",
       "\n",
       "    .dataframe tbody tr th {\n",
       "        vertical-align: top;\n",
       "    }\n",
       "\n",
       "    .dataframe thead th {\n",
       "        text-align: right;\n",
       "    }\n",
       "</style>\n",
       "<table border=\"1\" class=\"dataframe\">\n",
       "  <thead>\n",
       "    <tr style=\"text-align: right;\">\n",
       "      <th></th>\n",
       "      <th>CustomerID</th>\n",
       "      <th>Movie_Id</th>\n",
       "      <th>Rating</th>\n",
       "      <th>Year</th>\n",
       "      <th>Name</th>\n",
       "    </tr>\n",
       "  </thead>\n",
       "  <tbody>\n",
       "    <tr>\n",
       "      <th>0</th>\n",
       "      <td>871</td>\n",
       "      <td>1</td>\n",
       "      <td>4.0</td>\n",
       "      <td>2003.0</td>\n",
       "      <td>Dinosaur Planet</td>\n",
       "    </tr>\n",
       "    <tr>\n",
       "      <th>1</th>\n",
       "      <td>96</td>\n",
       "      <td>1</td>\n",
       "      <td>3.0</td>\n",
       "      <td>2003.0</td>\n",
       "      <td>Dinosaur Planet</td>\n",
       "    </tr>\n",
       "    <tr>\n",
       "      <th>2</th>\n",
       "      <td>829</td>\n",
       "      <td>1</td>\n",
       "      <td>4.0</td>\n",
       "      <td>2003.0</td>\n",
       "      <td>Dinosaur Planet</td>\n",
       "    </tr>\n",
       "    <tr>\n",
       "      <th>3</th>\n",
       "      <td>248</td>\n",
       "      <td>1</td>\n",
       "      <td>1.0</td>\n",
       "      <td>2003.0</td>\n",
       "      <td>Dinosaur Planet</td>\n",
       "    </tr>\n",
       "    <tr>\n",
       "      <th>4</th>\n",
       "      <td>539</td>\n",
       "      <td>1</td>\n",
       "      <td>3.0</td>\n",
       "      <td>2003.0</td>\n",
       "      <td>Dinosaur Planet</td>\n",
       "    </tr>\n",
       "  </tbody>\n",
       "</table>\n",
       "</div>"
      ],
      "text/plain": [
       "   CustomerID  Movie_Id  Rating    Year             Name\n",
       "0         871         1     4.0  2003.0  Dinosaur Planet\n",
       "1          96         1     3.0  2003.0  Dinosaur Planet\n",
       "2         829         1     4.0  2003.0  Dinosaur Planet\n",
       "3         248         1     1.0  2003.0  Dinosaur Planet\n",
       "4         539         1     3.0  2003.0  Dinosaur Planet"
      ]
     },
     "execution_count": 23,
     "metadata": {},
     "output_type": "execute_result"
    }
   ],
   "source": [
    "#Merge Movie ratings with movie title data on Movie_Id\n",
    "FinalNetflix_data = pd.merge(MovieRating_data,movie_titles,on='Movie_Id')\n",
    "FinalNetflix_data.head()"
   ]
  },
  {
   "cell_type": "markdown",
   "metadata": {},
   "source": [
    "**4. Data Exploration**"
   ]
  },
  {
   "cell_type": "markdown",
   "metadata": {},
   "source": [
    "## EDA"
   ]
  },
  {
   "cell_type": "markdown",
   "metadata": {},
   "source": [
    "Now we will explore the data and try to understand the distribution of movie ratings."
   ]
  },
  {
   "cell_type": "code",
   "execution_count": 24,
   "metadata": {},
   "outputs": [
    {
     "data": {
      "text/plain": [
       "Name\n",
       "Lord of the Rings: The Return of the King: Extended Edition: Bonus Material    5.000000\n",
       "The Jack Bull                                                                  4.645720\n",
       "The Lord of the Rings: The Fellowship of the Ring: Extended Edition            4.644737\n",
       "Lord of the Rings: The Two Towers: Extended Edition                            4.633727\n",
       "Raiders of the Lost Ark                                                        4.542024\n",
       "Name: Rating, dtype: float64"
      ]
     },
     "execution_count": 24,
     "metadata": {},
     "output_type": "execute_result"
    }
   ],
   "source": [
    "#Get the top five highest rated movies on average\n",
    "FinalNetflix_data.groupby('Name')['Rating'].mean().sort_values(ascending=False).head(5)"
   ]
  },
  {
   "cell_type": "markdown",
   "metadata": {},
   "source": [
    "The table above shows the average of Top five highest rated movies in the Netflix data. **Lord of the Rings** is the highest rated movie with a rating of 5."
   ]
  },
  {
   "cell_type": "code",
   "execution_count": 25,
   "metadata": {},
   "outputs": [
    {
     "data": {
      "text/plain": [
       "Name\n",
       "The Godfather               2029\n",
       "Psycho                      1831\n",
       "The Manchurian Candidate    1645\n",
       "Bad Boys                    1622\n",
       "Gone in 60 Seconds          1578\n",
       "Name: Rating, dtype: int64"
      ]
     },
     "execution_count": 25,
     "metadata": {},
     "output_type": "execute_result"
    }
   ],
   "source": [
    "#Get the top five movies with highest number of user ratings\n",
    "FinalNetflix_data.groupby('Name')['Rating'].count().sort_values(ascending=False).head()"
   ]
  },
  {
   "cell_type": "markdown",
   "metadata": {},
   "source": [
    "The table above shows that **'The Godfather'** received the highest number of ratings from users."
   ]
  },
  {
   "cell_type": "code",
   "execution_count": 26,
   "metadata": {},
   "outputs": [
    {
     "data": {
      "text/html": [
       "<div>\n",
       "<style scoped>\n",
       "    .dataframe tbody tr th:only-of-type {\n",
       "        vertical-align: middle;\n",
       "    }\n",
       "\n",
       "    .dataframe tbody tr th {\n",
       "        vertical-align: top;\n",
       "    }\n",
       "\n",
       "    .dataframe thead th {\n",
       "        text-align: right;\n",
       "    }\n",
       "</style>\n",
       "<table border=\"1\" class=\"dataframe\">\n",
       "  <thead>\n",
       "    <tr style=\"text-align: right;\">\n",
       "      <th></th>\n",
       "      <th>Rating</th>\n",
       "    </tr>\n",
       "    <tr>\n",
       "      <th>Name</th>\n",
       "      <th></th>\n",
       "    </tr>\n",
       "  </thead>\n",
       "  <tbody>\n",
       "    <tr>\n",
       "      <th>'Allo 'Allo!: Series 1</th>\n",
       "      <td>3.752212</td>\n",
       "    </tr>\n",
       "    <tr>\n",
       "      <th>'Allo 'Allo!: Series 2</th>\n",
       "      <td>2.391304</td>\n",
       "    </tr>\n",
       "    <tr>\n",
       "      <th>'Allo 'Allo!: Series 3</th>\n",
       "      <td>2.767500</td>\n",
       "    </tr>\n",
       "    <tr>\n",
       "      <th>'N Sync: 'N the Mix</th>\n",
       "      <td>1.881356</td>\n",
       "    </tr>\n",
       "    <tr>\n",
       "      <th>'N Sync: Live at Madison Square Garden</th>\n",
       "      <td>2.031250</td>\n",
       "    </tr>\n",
       "  </tbody>\n",
       "</table>\n",
       "</div>"
      ],
      "text/plain": [
       "                                          Rating\n",
       "Name                                            \n",
       "'Allo 'Allo!: Series 1                  3.752212\n",
       "'Allo 'Allo!: Series 2                  2.391304\n",
       "'Allo 'Allo!: Series 3                  2.767500\n",
       "'N Sync: 'N the Mix                     1.881356\n",
       "'N Sync: Live at Madison Square Garden  2.031250"
      ]
     },
     "execution_count": 26,
     "metadata": {},
     "output_type": "execute_result"
    }
   ],
   "source": [
    "#Get mean number of ratings of movies\n",
    "Ratings = pd.DataFrame(FinalNetflix_data.groupby('Name')['Rating'].mean())\n",
    "Ratings.head()"
   ]
  },
  {
   "cell_type": "code",
   "execution_count": 27,
   "metadata": {},
   "outputs": [
    {
     "data": {
      "text/html": [
       "<div>\n",
       "<style scoped>\n",
       "    .dataframe tbody tr th:only-of-type {\n",
       "        vertical-align: middle;\n",
       "    }\n",
       "\n",
       "    .dataframe tbody tr th {\n",
       "        vertical-align: top;\n",
       "    }\n",
       "\n",
       "    .dataframe thead th {\n",
       "        text-align: right;\n",
       "    }\n",
       "</style>\n",
       "<table border=\"1\" class=\"dataframe\">\n",
       "  <thead>\n",
       "    <tr style=\"text-align: right;\">\n",
       "      <th></th>\n",
       "      <th>Rating</th>\n",
       "      <th>num of ratings</th>\n",
       "    </tr>\n",
       "    <tr>\n",
       "      <th>Name</th>\n",
       "      <th></th>\n",
       "      <th></th>\n",
       "    </tr>\n",
       "  </thead>\n",
       "  <tbody>\n",
       "    <tr>\n",
       "      <th>'Allo 'Allo!: Series 1</th>\n",
       "      <td>3.752212</td>\n",
       "      <td>113</td>\n",
       "    </tr>\n",
       "    <tr>\n",
       "      <th>'Allo 'Allo!: Series 2</th>\n",
       "      <td>2.391304</td>\n",
       "      <td>23</td>\n",
       "    </tr>\n",
       "    <tr>\n",
       "      <th>'Allo 'Allo!: Series 3</th>\n",
       "      <td>2.767500</td>\n",
       "      <td>400</td>\n",
       "    </tr>\n",
       "    <tr>\n",
       "      <th>'N Sync: 'N the Mix</th>\n",
       "      <td>1.881356</td>\n",
       "      <td>59</td>\n",
       "    </tr>\n",
       "    <tr>\n",
       "      <th>'N Sync: Live at Madison Square Garden</th>\n",
       "      <td>2.031250</td>\n",
       "      <td>96</td>\n",
       "    </tr>\n",
       "  </tbody>\n",
       "</table>\n",
       "</div>"
      ],
      "text/plain": [
       "                                          Rating  num of ratings\n",
       "Name                                                            \n",
       "'Allo 'Allo!: Series 1                  3.752212             113\n",
       "'Allo 'Allo!: Series 2                  2.391304              23\n",
       "'Allo 'Allo!: Series 3                  2.767500             400\n",
       "'N Sync: 'N the Mix                     1.881356              59\n",
       "'N Sync: Live at Madison Square Garden  2.031250              96"
      ]
     },
     "execution_count": 27,
     "metadata": {},
     "output_type": "execute_result"
    }
   ],
   "source": [
    "#Get the number of ratings for each movie\n",
    "Ratings['num of ratings'] = pd.DataFrame(FinalNetflix_data.groupby('Name')['Rating'].count())\n",
    "Ratings.head()"
   ]
  },
  {
   "cell_type": "markdown",
   "metadata": {},
   "source": [
    "The table above shows the average ratings and the number of ratings given to movies."
   ]
  },
  {
   "cell_type": "code",
   "execution_count": 28,
   "metadata": {},
   "outputs": [
    {
     "data": {
      "text/plain": [
       "<matplotlib.axes._subplots.AxesSubplot at 0x2505aa499e8>"
      ]
     },
     "execution_count": 28,
     "metadata": {},
     "output_type": "execute_result"
    },
    {
     "data": {
      "image/png": "[encoded data removed]",
      "text/plain": [
       "<Figure size 720x288 with 1 Axes>"
      ]
     },
     "metadata": {
      "needs_background": "light"
     },
     "output_type": "display_data"
    }
   ],
   "source": [
    "#Check the distribution of number of ratings\n",
    "plt.figure(figsize=(10,4))\n",
    "Ratings['num of ratings'].hist(bins=70)"
   ]
  },
  {
   "cell_type": "markdown",
   "metadata": {},
   "source": [
    "The distribution of number of ratings is skewed to the right which implies that the data contains more movies that have been rated by a high number of users. On the other hand, the data on movies is relatively less which have been rated by less number of users."
   ]
  },
  {
   "cell_type": "code",
   "execution_count": 29,
   "metadata": {},
   "outputs": [
    {
     "data": {
      "text/plain": [
       "<matplotlib.axes._subplots.AxesSubplot at 0x2505f8b86d8>"
      ]
     },
     "execution_count": 29,
     "metadata": {},
     "output_type": "execute_result"
    },
    {
     "data": {
      "image/png": "[encoded data removed]",
      "text/plain": [
       "<Figure size 720x288 with 1 Axes>"
      ]
     },
     "metadata": {
      "needs_background": "light"
     },
     "output_type": "display_data"
    }
   ],
   "source": [
    "#Check the distribution of ratings\n",
    "plt.figure(figsize=(10,4))\n",
    "Ratings['Rating'].hist(bins=70)"
   ]
  },
  {
   "cell_type": "markdown",
   "metadata": {},
   "source": [
    "The distribution of ratings approximates a Normal distribution. It can be seen that most of the movies are rated between 2.5 and 3 approx."
   ]
  },
  {
   "cell_type": "code",
   "execution_count": 30,
   "metadata": {},
   "outputs": [
    {
     "data": {
      "text/plain": [
       "<seaborn.axisgrid.JointGrid at 0x2505a9343c8>"
      ]
     },
     "execution_count": 30,
     "metadata": {},
     "output_type": "execute_result"
    },
    {
     "data": {
      "image/png": "[encoded data removed]",
      "text/plain": [
       "<Figure size 432x432 with 3 Axes>"
      ]
     },
     "metadata": {
      "needs_background": "light"
     },
     "output_type": "display_data"
    }
   ],
   "source": [
    "#Check the relationship between number of ratings and ratings\n",
    "sns.jointplot(x='Rating',y='num of ratings',data=Ratings,alpha=0.5)"
   ]
  },
  {
   "cell_type": "markdown",
   "metadata": {},
   "source": [
    "The joinplot above shows the relationship between **'number of ratings'** and **'Rating'**. There is a somewhat positive association between these two variables i.e. movies with a high rating have received more number of ratings than the ones that have been given a rating ranging between 1 and 2.5."
   ]
  },
  {
   "cell_type": "markdown",
   "metadata": {},
   "source": [
    "Now let's have a look at the unique number of users and unique number of movies."
   ]
  },
  {
   "cell_type": "code",
   "execution_count": 31,
   "metadata": {},
   "outputs": [
    {
     "data": {
      "text/html": [
       "<pre style=\"white-space:pre;overflow-x:auto;line-height:normal;font-family:Menlo,'DejaVu Sans Mono',consolas,'Courier New',monospace\"><span style=\"color: #800080; font-weight: bold\">Num. of Users:</span><span style=\"color: #000080; font-weight: bold\">1214</span>\n",
       "</pre>\n"
      ],
      "text/plain": [
       "<rich.jupyter.JupyterRenderable at 0x2505e6acac8>"
      ]
     },
     "metadata": {},
     "output_type": "display_data"
    },
    {
     "data": {
      "text/html": [
       "<pre style=\"white-space:pre;overflow-x:auto;line-height:normal;font-family:Menlo,'DejaVu Sans Mono',consolas,'Courier New',monospace\"><span style=\"color: #800080; font-weight: bold\">Num of Movies:</span><span style=\"color: #000080; font-weight: bold\">17768</span>\n",
       "</pre>\n"
      ],
      "text/plain": [
       "<rich.jupyter.JupyterRenderable at 0x2505e96dfd0>"
      ]
     },
     "metadata": {},
     "output_type": "display_data"
    }
   ],
   "source": [
    "n_users = FinalNetflix_data.CustomerID.nunique() #Get the unique number of users\n",
    "n_items = FinalNetflix_data.Movie_Id.nunique() #Get the unique number of movies\n",
    "\n",
    "print('[bold magenta]Num. of Users:[/]'+ str(n_users))\n",
    "print('[bold magenta]Num of Movies:[/]'+str(n_items))"
   ]
  },
  {
   "cell_type": "markdown",
   "metadata": {},
   "source": [
    "## Collaborative Filtering"
   ]
  },
  {
   "cell_type": "markdown",
   "metadata": {},
   "source": [
    "**5. Modeling**"
   ]
  },
  {
   "cell_type": "markdown",
   "metadata": {},
   "source": [
    "Collaborative Filtering method has been used to create our Movie Recommender system. The algorithm has the ability to do feature learning on its own, which means that it can start to learn for itself what features to use. \n",
    "\n",
    "CF can be divided into **Memory-Based Collaborative Filtering** and **Model-Based Collaborative filtering**. \n",
    "\n",
    "We being by using Memory-Based CF on our Netflix data with 1214 users and 17768 movies."
   ]
  },
  {
   "cell_type": "code",
   "execution_count": 32,
   "metadata": {},
   "outputs": [],
   "source": [
    "#import train test split\n",
    "from sklearn.model_selection import train_test_split"
   ]
  },
  {
   "cell_type": "markdown",
   "metadata": {},
   "source": [
    "**a. Memory-Based Collaborative Filtering**\n",
    "\n",
    "Instead of dividing the data into X_train,X_test,y_train and y_test, we will segment the data into train and test sets."
   ]
  },
  {
   "cell_type": "code",
   "execution_count": 33,
   "metadata": {},
   "outputs": [],
   "source": [
    "#Segment data into train and test sets\n",
    "train_data, test_data = train_test_split(FinalNetflix_data, test_size=0.25)"
   ]
  },
  {
   "cell_type": "markdown",
   "metadata": {},
   "source": [
    "Memory-Based Collaborative Filtering approaches can be divided into two main sections: **user-item filtering** and **item-item filtering**. \n",
    "\n",
    "A *user-item filtering* will take a particular user, find users that are similar to that user based on similarity of ratings, and recommend items that those similar users liked. \n",
    "\n",
    "In contrast, *item-item filtering* will take an item, find users who liked that item, and find other items that those users or similar users also liked. It takes items and outputs other items as recommendations. \n",
    "\n",
    "* *Item-Item Collaborative Filtering*: “Users who liked this item also liked …”\n",
    "* *User-Item Collaborative Filtering*: “Users who are similar to you also liked …”"
   ]
  },
  {
   "cell_type": "markdown",
   "metadata": {},
   "source": [
    "In both cases, you create a user-item matrix which built from the entire dataset.\n",
    "\n",
    "Since we have split the data into testing and training we will need to create two ``[1214 x 17768]`` matrices (all users by all movies). \n",
    "\n",
    "The training matrix contains 75% of the ratings and the testing matrix contains 25% of the ratings.  "
   ]
  },
  {
   "cell_type": "markdown",
   "metadata": {},
   "source": [
    "After you have built the user-item matrix you calculate the similarity and create a similarity matrix. \n",
    "\n",
    "The similarity values between items in *Item-Item Collaborative Filtering* are measured by observing all the users who have rated both items. "
   ]
  },
  {
   "cell_type": "markdown",
   "metadata": {},
   "source": [
    "For *User-Item Collaborative Filtering* the similarity values between users are measured by observing all the items that are rated by both users."
   ]
  },
  {
   "cell_type": "code",
   "execution_count": 34,
   "metadata": {},
   "outputs": [],
   "source": [
    "#Convert the Netflix Movie Ratings data frame to train and test matrices\n",
    "train_data_matrix = np.zeros((n_users, n_items))\n",
    "for line in train_data.itertuples():\n",
    "    train_data_matrix[line[1]-1, line[2]-1] = line[3]  \n",
    "\n",
    "test_data_matrix = np.zeros((n_users, n_items))\n",
    "for line in test_data.itertuples():\n",
    "    test_data_matrix[line[1]-1, line[2]-1] = line[3]"
   ]
  },
  {
   "cell_type": "markdown",
   "metadata": {},
   "source": [
    "A distance metric commonly used in recommender systems is *cosine similarity*, where the ratings are seen as vectors in ``n``-dimensional space and the similarity is calculated based on the angle between these vectors.\n",
    "\n",
    "We will use the pairwise distances function from sklearn to calculate the cosine similarity. Note, the output will range from 0 to 1 since the ratings are all positive."
   ]
  },
  {
   "cell_type": "code",
   "execution_count": 35,
   "metadata": {},
   "outputs": [],
   "source": [
    "#Use pairwise function from sklearn to calculate cosine similarity for predicting ratings\n",
    "from sklearn.metrics.pairwise import pairwise_distances\n",
    "\n",
    "user_similarity = pairwise_distances(train_data_matrix, metric='cosine')\n",
    "item_similarity = pairwise_distances(train_data_matrix.T, metric='cosine')"
   ]
  },
  {
   "cell_type": "code",
   "execution_count": 36,
   "metadata": {},
   "outputs": [],
   "source": [
    "#Create a function to predict ratings\n",
    "def predict(ratings, similarity, type='user'):\n",
    "    if type == 'user':\n",
    "        mean_user_rating = ratings.mean(axis=1)\n",
    "        #You use np.newaxis so that mean_user_rating has same format as ratings\n",
    "        ratings_diff = (ratings - mean_user_rating[:, np.newaxis]) \n",
    "        pred = mean_user_rating[:, np.newaxis] + similarity.dot(ratings_diff) / np.array([np.abs(similarity).sum(axis=1)]).T\n",
    "    elif type == 'item':\n",
    "        pred = ratings.dot(similarity) / np.array([np.abs(similarity).sum(axis=1)])     \n",
    "    return pred"
   ]
  },
  {
   "cell_type": "code",
   "execution_count": 37,
   "metadata": {},
   "outputs": [],
   "source": [
    "item_prediction = predict(train_data_matrix, item_similarity, type='item') #Get item prediction\n",
    "user_prediction = predict(train_data_matrix, user_similarity, type='user') #Get user prediction"
   ]
  },
  {
   "cell_type": "markdown",
   "metadata": {},
   "source": [
    "**6. Evaluation**"
   ]
  },
  {
   "cell_type": "markdown",
   "metadata": {},
   "source": [
    "There are many evaluation metrics but one of the most popular metric used to evaluate accuracy of predicted ratings is *Root Mean Squared Error (RMSE)*."
   ]
  },
  {
   "cell_type": "markdown",
   "metadata": {},
   "source": [
    "Since you only want to consider predicted ratings that are in the test dataset, you filter out all other elements in the prediction matrix with `prediction[ground_truth.nonzero()]`. "
   ]
  },
  {
   "cell_type": "code",
   "execution_count": 38,
   "metadata": {},
   "outputs": [],
   "source": [
    "#Import library for RMSE evaluation metric\n",
    "from sklearn.metrics import mean_squared_error\n",
    "from math import sqrt\n",
    "\n",
    "#Create a function to return RMSE value\n",
    "def rmse(prediction, ground_truth):\n",
    "    prediction = prediction[ground_truth.nonzero()].flatten() \n",
    "    ground_truth = ground_truth[ground_truth.nonzero()].flatten()\n",
    "    return sqrt(mean_squared_error(prediction, ground_truth))"
   ]
  },
  {
   "cell_type": "code",
   "execution_count": 39,
   "metadata": {},
   "outputs": [
    {
     "data": {
      "text/html": [
       "<pre style=\"white-space:pre;overflow-x:auto;line-height:normal;font-family:Menlo,'DejaVu Sans Mono',consolas,'Courier New',monospace\"><span style=\"color: #800080; font-weight: bold\">User-based CF RMSE:</span> <span style=\"color: #000080; font-weight: bold\">2.394805689467512</span>\n",
       "</pre>\n"
      ],
      "text/plain": [
       "<rich.jupyter.JupyterRenderable at 0x2505e96d320>"
      ]
     },
     "metadata": {},
     "output_type": "display_data"
    },
    {
     "data": {
      "text/html": [
       "<pre style=\"white-space:pre;overflow-x:auto;line-height:normal;font-family:Menlo,'DejaVu Sans Mono',consolas,'Courier New',monospace\"><span style=\"color: #800080; font-weight: bold\">Item-based CF RMSE:</span> <span style=\"color: #000080; font-weight: bold\">3.0768948203896325</span>\n",
       "</pre>\n"
      ],
      "text/plain": [
       "<rich.jupyter.JupyterRenderable at 0x250605b7550>"
      ]
     },
     "metadata": {},
     "output_type": "display_data"
    }
   ],
   "source": [
    "#Get the RMSE value for User-based and Item-based\n",
    "print('[bold magenta]User-based CF RMSE:[/] ' + str(rmse(user_prediction, test_data_matrix)))\n",
    "print('[bold magenta]Item-based CF RMSE:[/] ' + str(rmse(item_prediction, test_data_matrix)))"
   ]
  },
  {
   "cell_type": "markdown",
   "metadata": {},
   "source": [
    "User-based approach gives a lower RMSE value of 2.39 compared to Item-based with RMSE of 3.07. Thus, a user-based approach will generate better rating predictions."
   ]
  },
  {
   "cell_type": "markdown",
   "metadata": {},
   "source": [
    "Memory-based algorithms are easy to implement and produce reasonable prediction quality. \n",
    "The drawback of memory-based CF is that it doesn't scale to real-world scenarios and doesn't address the well-known cold-start problem, that is when new user or new item enters the system. Model-based CF methods are scalable and can deal with higher sparsity level than memory-based models, but also suffer when new users or items that don't have any ratings enter the system.\n",
    "\n",
    "*Source:* (http://blog.ethanrosenthal.com/2015/11/02/intro-to-collaborative-filtering/)"
   ]
  },
  {
   "cell_type": "markdown",
   "metadata": {},
   "source": [
    "**b. Model-Based C-F**"
   ]
  },
  {
   "cell_type": "markdown",
   "metadata": {},
   "source": [
    "Model-based Collaborative Filtering is based on **matrix factorization (MF)** which has received greater exposure, mainly as an unsupervised learning method for latent variable decomposition and dimensionality reduction. Matrix factorization is widely used for recommender systems where it can deal better with scalability and sparsity than Memory-based CF. The goal of MF is to learn the latent preferences of users and the latent attributes of items from known ratings (learn features that describe the characteristics of ratings) to then predict the unknown ratings through the dot product of the latent features of users and items. \n",
    "When we have a very sparse matrix, with a lot of dimensions, by doing matrix factorization we can restructure the user-item matrix into low-rank structure, and represent the matrix by the multiplication of two low-rank matrices, where the rows contain the latent vector. We fit this matrix to approximate your original matrix, as closely as possible, by multiplying the low-rank matrices together, which fills in the entries missing in the original matrix."
   ]
  },
  {
   "cell_type": "markdown",
   "metadata": {},
   "source": [
    "Let's calculate the sparsity level of our Netflix data"
   ]
  },
  {
   "cell_type": "code",
   "execution_count": 40,
   "metadata": {},
   "outputs": [
    {
     "data": {
      "text/html": [
       "<pre style=\"white-space:pre;overflow-x:auto;line-height:normal;font-family:Menlo,'DejaVu Sans Mono',consolas,'Courier New',monospace\"><span style=\"color: #800080; font-weight: bold\">The sparsity level of Netflix data is</span> <span style=\"color: #000080; font-weight: bold\">84.6</span>%\n",
       "</pre>\n"
      ],
      "text/plain": [
       "<rich.jupyter.JupyterRenderable at 0x250605b7438>"
      ]
     },
     "metadata": {},
     "output_type": "display_data"
    }
   ],
   "source": [
    "#Calculate the Sparsity level of the matrix\n",
    "sparsity=round(1.0-len(FinalNetflix_data)/float(n_users*n_items),3)\n",
    "print('[bold magenta]The sparsity level of Netflix data is[/] ' +  str(sparsity*100) + '%')"
   ]
  },
  {
   "cell_type": "markdown",
   "metadata": {},
   "source": [
    "## SVD"
   ]
  },
  {
   "cell_type": "markdown",
   "metadata": {},
   "source": [
    "A well-known matrix factorization method is **Singular value decomposition (SVD)**. Collaborative Filtering can be formulated by approximating a matrix `X` by using singular value decomposition."
   ]
  },
  {
   "cell_type": "markdown",
   "metadata": {},
   "source": [
    "The equation for SVD can be described as follows:\n",
    "\n",
    "Given `m x n` matrix `X`:\n",
    "* *`U`* is an *`(m x r)`* orthogonal matrix\n",
    "* *`S`* is an *`(r x r)`* diagonal matrix with non-negative real numbers on the diagonal\n",
    "* *V^T* is an *`(r x n)`* orthogonal matrix\n",
    "\n",
    "Elements on the diagnoal in `S` are known as *singular values of `X`*. \n",
    "\n",
    "\n",
    "Matrix *`X`* can be factorized to *`U`*, *`S`* and *`V`*. The *`U`* matrix represents the feature vectors corresponding to the users in the hidden feature space and the *`V`* matrix represents the feature vectors corresponding to the items in the hidden feature space.\n",
    "\n",
    "We can make a prediction by taking dot product of *`U`*, *`S`* and *`V^T`*."
   ]
  },
  {
   "cell_type": "code",
   "execution_count": 41,
   "metadata": {},
   "outputs": [
    {
     "data": {
      "text/html": [
       "<pre style=\"white-space:pre;overflow-x:auto;line-height:normal;font-family:Menlo,'DejaVu Sans Mono',consolas,'Courier New',monospace\"><span style=\"color: #800080; font-weight: bold\">User-based CF MSE:</span> <span style=\"color: #000080; font-weight: bold\">2.1049246903059973</span>\n",
       "</pre>\n"
      ],
      "text/plain": [
       "<rich.jupyter.JupyterRenderable at 0x250605b75c0>"
      ]
     },
     "metadata": {},
     "output_type": "display_data"
    }
   ],
   "source": [
    "#Calculate SVD\n",
    "u, s, vt = svds(train_data_matrix, k = 20) #Decomposing the matrix using k = 20 singular values in the diagonal matrix\n",
    "s_diag_matrix=np.diag(s) #Extract a diagonal matrix\n",
    "X_pred = np.dot(np.dot(u, s_diag_matrix), vt) #predict by taking the dot product of U, S and V matrices\n",
    "print('[bold magenta]User-based CF MSE:[/] ' + str(rmse(X_pred, test_data_matrix)))"
   ]
  },
  {
   "cell_type": "markdown",
   "metadata": {},
   "source": [
    "Carelessly addressing only the relatively few known entries is highly prone to overfitting. SVD can be very slow and computationally expensive. "
   ]
  }
 ],
 "metadata": {
  "kernelspec": {
   "display_name": "Python 3",
   "language": "python",
   "name": "python3"
  },
  "language_info": {
   "codemirror_mode": {
    "name": "ipython",
    "version": 3
   },
   "file_extension": ".py",
   "mimetype": "text/x-python",
   "name": "python",
   "nbconvert_exporter": "python",
   "pygments_lexer": "ipython3",
   "version": "3.7.3"
  }
 },
 "nbformat": 4,
 "nbformat_minor": 2
}
